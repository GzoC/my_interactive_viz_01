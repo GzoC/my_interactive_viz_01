{
 "cells": [
  {
   "cell_type": "code",
   "execution_count": 2,
   "id": "b6327077-8fc5-4143-95ce-c1f5ef1d6349",
   "metadata": {},
   "outputs": [],
   "source": [
    "# Celda 1\n",
    "\n",
    "# Importamos pandas para manipulación de datos\n",
    "import pandas as pd  # pandas se utiliza para la lectura y manipulación de data frames\n",
    "\n",
    "# Importamos numpy para operaciones numéricas\n",
    "import numpy as np   # numpy sirve para trabajar con arreglos y funciones matemáticas\n",
    "\n",
    "# Importamos matplotlib y seaborn para visualizaciones básicas\n",
    "import matplotlib.pyplot as plt  # matplotlib permite crear gráficos básicos\n",
    "import seaborn as sns            # seaborn se basa en matplotlib para gráficos estadísticos\n",
    "\n",
    "# Configuramos el estilo de los gráficos para que se vean mejor\n",
    "sns.set(style=\"whitegrid\")       # seteamos un estilo de fondo con cuadrícula suave\n",
    "plt.rcParams[\"figure.figsize\"] = (10, 6) # establecemos un tamaño por defecto para los gráficos\n"
   ]
  },
  {
   "cell_type": "code",
   "execution_count": null,
   "id": "2f795bc8-0b60-4e15-9574-0e89909a9c62",
   "metadata": {},
   "outputs": [],
   "source": []
  }
 ],
 "metadata": {
  "kernelspec": {
   "display_name": "Python [conda env:base] *",
   "language": "python",
   "name": "conda-base-py"
  },
  "language_info": {
   "codemirror_mode": {
    "name": "ipython",
    "version": 3
   },
   "file_extension": ".py",
   "mimetype": "text/x-python",
   "name": "python",
   "nbconvert_exporter": "python",
   "pygments_lexer": "ipython3",
   "version": "3.12.7"
  }
 },
 "nbformat": 4,
 "nbformat_minor": 5
}
